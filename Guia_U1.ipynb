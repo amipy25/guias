{
 "cells": [
  {
   "cell_type": "markdown",
   "id": "74c3cb4e-39dd-4380-8178-b24fcee5ac80",
   "metadata": {},
   "source": [
    "# Unidad 1:\n",
    " - Modelos lineales."
   ]
  },
  {
   "cell_type": "markdown",
   "id": "a7691969-3278-47a8-a62c-2a2c38c05aab",
   "metadata": {},
   "source": [
    "## Problema 1. [Autitos en la pista]\\(<img src=\"img/geo.png\" style=\"height: 1em; vertical-align:middle\">)\n",
    "\n",
    "Este problema es para investigar a partir de un applet de GeoGebra que pueden encontrar en [este enlace (clic acá)](https://www.geogebra.org/m/txqx3dpn).\n",
    "\n",
    "a) Jueguen un poco con el applet y escriban un breve texto que explique en qué consiste. El texto debería servir para que alguien que no haya visto el applet entienda de qué se trata.\n",
    "\n",
    "b) Redacten dos o tres preguntas que se podrían investigar a partir de el applet. Estas preguntas serán compartidas en la clase y se discutirán las posibilidades y procedimientos convenientes para intentar responderlas."
   ]
  },
  {
   "cell_type": "markdown",
   "id": "43cb520c-7b04-42cc-9d76-6e3d640cd25a",
   "metadata": {},
   "source": [
    "## Problema 2. [GeoGebra y la app de los autitos]\\(<img src=\"img/geo.png\" style=\"height: 1em; vertical-align:middle\">)\n",
    "\n",
    "En el Problema 1 usaron un applet programada en GeoGebra. ¿Cómo la programaron los docentes?¿Qué recursos del software usaron?¿Qué conocimientos matemáticos usaron? El objetivo último de este problema es que ustedes puedan investigar el software y aprender a:\n",
    "\n",
    "- Reproducir esa applet programándola ustedes.¿Cómo se mueven los autitos?¿Por qué se mueven así?¿Cómo se puede controlar eso?\n",
    "- Aprender a introducir cambios y mejoras en el applet:\n",
    "  - Que muestre los gráficos de las rectas.\n",
    "  - Que se pueda cambiar la velocidad de cada autito y su punto de partida.\n",
    "  - Que el usuario señale un punto de encuentro y que cuando los autos son lanzados y se encuentren, aparezca un cartel que diga con qué porcentaje de error acertaste.\n",
    "  - Que cuando los autos choquen aparezca una explosión."
   ]
  },
  {
   "cell_type": "markdown",
   "id": "7bef9126-9ffd-4f93-bfc5-fef7570f10b8",
   "metadata": {},
   "source": [
    "## Problema 3. [Otros autitos]\n",
    "\n",
    "Cada gráfico corresponde a una situación como la del applet del Problema 1. Para cada caso, respondan las preguntas que están a continuación.\n",
    "\n",
    "| (i)                       | (ii)                     |\n",
    "|--------------------------|---------------------------|\n",
    "| ![](img/image-006.png)   | ![](img/image-008.png)    |\n",
    "\n",
    "| (iii)                    | (iv)                      |\n",
    "|--------------------------|---------------------------|\n",
    "| ![](img/image-010.png)   | ![](img/image-012.png)    |\n",
    "\n",
    "\n",
    "\n",
    "a) ¿Cuál de los dos autos va más rápido?\n",
    "\n",
    "b) ¿Alguno partió antes que el otro?\n",
    "\n",
    "c) ¿En qué sentido iba cada uno?\n",
    "\n",
    "d) ¿Dónde, y en qué instante, se encontraron?"
   ]
  },
  {
   "cell_type": "markdown",
   "id": "28eaf1e2-e98d-44e4-8b05-f2f64eaacb1a",
   "metadata": {},
   "source": [
    "## Problema 4. [Problema de modelización abierto: celulares]\\(<img src=\"img/geo.png\" style=\"height: 1em; vertical-align:middle\">)\n",
    "\n",
    "Tres compañías de telefonía celular estudian cómo ofrecer su plan para el nuevo **Mobicón Esmarfón**, con las prestaciones que se ven en el recuadro.\n",
    "\n",
    "![](img/image-015.png)\n",
    "\n",
    "- La compañía 1: Regala el teléfono y cobra un abono de $\\text{\\$}A_1$ por mes.\n",
    "- La compañía 2: Cobra el teléfono $\\text{\\$}C_2$ y un abono mensual de $\\text{\\$}A_2$.\n",
    "- La compañía 3: Cobra el teléfono $\\text{\\$}C_3$, da tres meses de abono gratuito y a partir del cuarto mes cobra el abono $\\text{\\$}A_3$.\n",
    "\n",
    "(a) Construyan un modelo con GeoGebra, en el que $A_1,\\ A_2,\\,A_3,\\ C_2,\\ y\\ C_3$, sean deslizadores. Investiguen los precios del mercado para elegir en qué rangos razonables se pueden mover esos deslizadores. El  modelo debe servir para describir el costo que tiene para un cliente elegir cada una de las tres compañías, en función del tiempo que usará el teléfono.\n",
    "\n",
    "(b) Jueguen con el modelo y elijan distintos valores de los deslizadores para que a un cliente que elegirá una compañía durante seis meses, un año, dos años, etc. le convenga la compañía 1, la 2 o la 3. Escriban en cada caso una explicación de por qué le convendrá una u otra."
   ]
  },
  {
   "cell_type": "markdown",
   "id": "f2cd586c-af8a-4be8-b9ed-f157cd006afe",
   "metadata": {},
   "source": [
    "## Problema 5. [Problemas de un trazo. Función lineal]\\(<img src=\"img/nogeo.png\" style=\"height: 1em; vertical-align:middle\">)\n",
    "\n",
    "En los diccionarios chinos de los ideogramas se ordenan por el número de trazos$^1$. Los ideogramas son más complejos, cuanto más trazos tienen.\n",
    "\n",
    "Basados en esa idea, pensamos que hay problemas matemáticos más y menos complejos. Son más complejos, los que demandan planificar toda una estrategia de resolución, con varios pasos que hay que ir ejecutando en orden. Los más simples de todos son los que tienen un solo paso: se pide hacer una cosa y nada más. Esos problemas son prácticamente ejercicios que requieren solamente saber hacer algo. Por eso los llamamos **Problemas de un trazo**. Son lo que se necesita manejar bien para poder ir avanzando en cada uno de los pasos de problemas complejos. Para las funciones lineales, identificamos los que vienen a continuación. ¿Se les ocurre algún otro?.\n",
    "\n",
    "L1. Dados dos puntos, escribir una fórmula de la función lineal que pasa por ellos.\n",
    "\n",
    "L2. Dado un punto, escribir la fórmula de todas las funciones lineales que pasan por él.\n",
    "\n",
    "L3. Dada la ecuación de una recta en la forma $Ax + By = C$ determinar la pendiente de la recta.\n",
    "\n",
    "L4. Dada una función lineal, proponer otra que se cruce con la primera en un punto dado.\n",
    "\n",
    "L5. Dada una función lineal y un punto que no está en su gráfico, escribir la ecuación de una recta paralela a la dada, pero que pase por el punto.\n",
    "\n",
    "L6. Dada una función lineal y un punto, escribir la ecuación de una recta perpendicular a la dada, pero que pase por el punto.\n",
    "\n",
    "L7. Dadas dos funciones lineales, con distinta pendiente, encontrar las coordenadas del punto en el que se cruzan.\n",
    "\n",
    "L8. Dados un punto $P = (a, b)$ y una pendiente $m$, graficar la recta que pasa por $P$ y tiene pendiente $m$, sin obtener la ecuación.\n",
    "\n",
    "$\\quad ^1 $Es interesante visitar, por ejemplo, [esta página](https://www.chinosimplificado.com/buscador.php)"
   ]
  }
 ],
 "metadata": {
  "kernelspec": {
   "display_name": "Python 3 (ipykernel)",
   "language": "python",
   "name": "python3"
  },
  "language_info": {
   "codemirror_mode": {
    "name": "ipython",
    "version": 3
   },
   "file_extension": ".py",
   "mimetype": "text/x-python",
   "name": "python",
   "nbconvert_exporter": "python",
   "pygments_lexer": "ipython3",
   "version": "3.12.10"
  }
 },
 "nbformat": 4,
 "nbformat_minor": 5
}
