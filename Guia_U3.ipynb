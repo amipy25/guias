{
 "cells": [
  {
   "cell_type": "markdown",
   "id": "c0992418-7c74-400c-ad20-e00afdd6848c",
   "metadata": {},
   "source": [
    "# Unidad 3:\n",
    "- Funciones polinómicas"
   ]
  },
  {
   "cell_type": "markdown",
   "id": "503909a0-be6e-4fb4-9af2-357fc2cb1711",
   "metadata": {},
   "source": [
    "## Problema 16. [Explorar applet polinómicas]\\(<img src=\"img/geo.png\" style=\"height: 1em; vertical-align:middle;\">)\n",
    "\n",
    "<p>Lean el siguiente recuadro:</p>\n",
    "<div style=\"border: 2px solid black; padding: 10px; border-radius: 10px;\">\n",
    "    <p>En estas últimas dos unidades hemos estudiado en detalle las funciones lineales, que responden a fórmulas del tipo:</p>\n",
    "    <table style=\"width:80%\">\n",
    "        <tr>\n",
    "            <td style=\"text-align:center\">$f(x) = mx + b$</td>\n",
    "        </tr>\n",
    "    </table>\n",
    "<p>y las funciones cuadráticas, que responden a fórmulas del tipo:</p>\n",
    "    <table style=\"width:80%\">\n",
    "        <tr>\n",
    "            <td style=\"text-align:center\">$f(x) = ax^2 + bx + c$</td>\n",
    "        </tr>\n",
    "    </table>\n",
    "<p>Debido al valor del máximo exponente que aparece en las variables en cada una de estas funciones, se dice que las líneas son <strong>de grado 1</strong> y las cuadráticas son <strong>de grado 2</strong>. Siguiendo de la misma manera, se puede pensar en una familia más general de funciones, donde los grados son más altos. Como irán apareciendo más términos y sería incómodo ir eligiendo distintas letras para nombrar a cada coeficiente, comenzaremos a nombrarlos de otra manera: $a_0$ será el término independiente, $a_1$ el coeficiente lineal (la pendiente $m$ de la recta), $a_2$ el coeficiente cuadrático y así sucesivamente. Con esta escritura las fórmulas quedarían así</p>\n",
    "    <ul>\n",
    "        <li>Una función de grado 1 tendría la forma $f(x) = a_{1}x + a_{0}$ $\\quad$ (con $a_1 \\neq 0$).</li>\n",
    "        <li>Una función de grado 2: $f(x)= a_{2}x^{2} + a_{1}x + a_{0}$ $\\quad$ (con $a_{2} \\neq 0$).</li>\n",
    "        <li>Una función de grado 3: $f(x) = a_{3}x^{3} + a_{2}x^{2} + a_{1}x + a_{0}$ $\\quad$ (con $a_3 \\neq 0$).</li>\n",
    "        <li>Una función de grado 4: $f(x) = a_{4}x^{4} + a_{3}x^{3} + a_{2}x^{2} + a_{1}x + a_{0}$ $\\quad$ (con $a_{4} \\neq 0$).</li>\n",
    "        <li>Y así sucesivamente.</li>\n",
    "    </ul>\n",
    "\n",
    "<p>En la otra dirección, una función constante $f(x)= a_{0}$ $\\quad$ (con $a_{0} \\neq 0$) tiene <strong>grado 0</strong>.</p>\n",
    "<p>La función constante, pero nula, cuya fórmula es $f(x) = 0$, es también polinómica, pero <strong>no tiene grado</strong>.</p>\n",
    "<p>Todas estas funciones se llaman <strong>funciones polinómicas</strong>.</p>\n",
    "<p>Este problema nos servirá para investigar propiedades de los gráficos de distintas funciones polinómicas, en relación a sus fórmulas y también distintas formas equivalentes de escribir sus fórmulas.</p>\n",
    "</div>\n",
    "\n",
    "<br>\n",
    "\n",
    "Abran el archivo [FuncionesPolinómicas.ggb](https://www.geogebra.org/m/sxv6zk8a). La idea es explorarlo y construir entre todos observaciones y afirmaciones que podamos comprobar o descartar para ir conociendo a estas funciones."
   ]
  },
  {
   "cell_type": "markdown",
   "id": "71ad9751-54dc-4e8e-905a-3e6ab93d962f",
   "metadata": {},
   "source": [
    "## Problema 17. [Gráficos y fórmulas]\\(<img src=\"img/nogeo.png\" style=\"height: 1em; vertical-align:middle;\">)\n",
    "\n",
    "Utilicen las conclusiones del **Problema 16** para decidir cuál de los gráficos corresponde a cada una de las funciones polinómicas de grado 2 dadas:\n",
    "\n",
    "| $f(x) = (x + 2)(x - 1)$   | $g(x) = -(x + 2)(x - 1)$   |\n",
    "|---------------------------|----------------------------|\n",
    "|  ![](img/image-050.png)   |   ![](img/image-052.png)   |\n",
    "|a)                         |b)                          |\n",
    "|                           |                            |\n",
    "|  ![](img/image-054.png)   |   ![](img/image-056.png)   |\n",
    "|c)                         |d)                          |"
   ]
  },
  {
   "cell_type": "markdown",
   "id": "090a0f26-2812-4edb-8291-451d4d989f17",
   "metadata": {},
   "source": [
    "## Problema 18. [Más gráficos y fórmulas]\\(<img src=\"img/nogeo.png\" style=\"height: 1em; vertical-align:middle;\">)\n",
    "\n",
    "Utilicen las conclusiones del **Problema 16** para decidir cuál de los gráficos corresponde a cada una de las funciones polinómicas dadas:\n",
    "\n",
    "| $f(x) = x^3 -x$           | $g(x) = x^5 + x^4 - x^3 - x^2$   |\n",
    "|---------------------------|----------------------------------|\n",
    "|  ![](img/image-062.png)   |      ![](img/image-064.png)      |\n",
    "|a)                         |b)                                |\n",
    "|                           |                                  |\n",
    "|  ![](img/image-066.png)   |      ![](img/image-068.png)      |\n",
    "|c)                         |d)                                |"
   ]
  },
  {
   "cell_type": "markdown",
   "id": "5448652d-99a1-4f12-b92a-68a99faf7db7",
   "metadata": {},
   "source": [
    "## Problema 19. [Todavía más gráficos y fórmulas]\\(<img src=\"img/nogeo.png\" style=\"height: 1em; vertical-align:middle;\">)\n",
    "\n",
    "La misma consigna que en los problemas anteriores, para las siguientes funciones y gráficos.\n",
    "\n",
    "| $f(x) = -(x + 1)^3(x - 1)$ | $g(x) = 2x^2(x + 1)(x - 1)^2$ |\n",
    "|----------------------------|-------------------------------|\n",
    "|  ![](img/image-072.png)    |    ![](img/image-074.png)     |\n",
    "|a)                          |b)                             |\n",
    "|                            |                               |\n",
    "|  ![](img/image-078.png)    |    ![](img/image-080.png)     |\n",
    "|c)                          |d)                             |"
   ]
  },
  {
   "cell_type": "markdown",
   "id": "19adce7c-d4c8-4566-aef6-7bb04399c885",
   "metadata": {},
   "source": [
    "## Problema 20. [Comando Desarrolla]\\(<img src=\"img/geo.png\" style=\"height: 1em; vertical-align:middle\">)\n",
    "\n",
    "\n",
    "a) Verifiquen sus respuestas del **Problema 19** ingresando en la **Barra de Entrada** de **GeoGebra** las funciones $f(x) = -(x + 1)^3(x - 1)$ y $g(x) = 2x^2(x + 1)(x - 1)^2$.\n",
    "\n",
    "b) Investiguen el comando `Desarrolla[ <Función> ]` para las funciones del ítem anterior. ¿Cómo funciona ese comando?¿Cómo harían calculando con lápiz y papel lo que hace el comando?."
   ]
  },
  {
   "cell_type": "markdown",
   "id": "ad8ca8db-3655-4388-928b-3f36d7860d83",
   "metadata": {},
   "source": [
    "## Problema 21. [Manejo algebraico: distributiva]\\(<img src=\"img/nogeo.png\" style=\"height: 1em; vertical-align:middle\">)\n",
    "\n",
    "\n",
    "a) Desarrollen calculando con lápiz y papel las siguientes funciones polinómicas:\n",
    "\n",
    "<ol style=\"list-style-type: lower-alpha;\">\n",
    "    <li>$f_1(x) = (x - 5)(x - 2)(x + 1)$</li>\n",
    "    <li>$f_2(x) = x(x + 2)(x - 1)$</li>\n",
    "    <li>$f_3(x) = (x -3)(x + 3)(x  + 1)^2$</li>\n",
    "    <li>$f_4(x) = (x - 5)^2(x - 2)$</li>\n",
    "</ol>\n",
    "\n",
    "b) Observen las fórmulas de $f_1, f_2, f_3$ y $f_4$ dadas en el ítem anterior y las versiones desarrolladas obtenidas. ¿A partir de cuál de esas versiones les resultaría más fácil dibujar un gráfico aproximado de las funciones?."
   ]
  },
  {
   "cell_type": "markdown",
   "id": "b137a3c1-5920-4bc1-8be1-3adba680a495",
   "metadata": {},
   "source": [
    "## Problema 22. [Derivar funciones polinómicas I]\\(<img src=\"img/geo.png\" style=\"height: 1em; vertical-align:middle;\">)\n",
    "<p>Lean el siguiente recuadro:</p>\n",
    "\n",
    "<div style=\"border: 2px solid black; padding:10px; border-radius: 10px;\"><p>En la Unidad anterior conocimos el concepto de derivada y aprendimos a derivar funciones lineales y cuadráticas. Recordemos:</p>\n",
    "\n",
    "<table style=\"width:80%\">\n",
    "    <tr>\n",
    "        <td style=\"border: 1px solid #ccc; padding:10px;\">La derivada de una función en un punto es la pendiente de la recta tangente al gráfico de la función en ese punto.</td>\n",
    "    </tr>\n",
    "</table>\n",
    "\n",
    "<p>La derivada de una <strong>función constante es 0</strong>, porque su gráfico es una <strong>recta horizontal</strong> y la recta tangente a esa recta en todo punto es la recta misma, que tiene pendiente $0$.</p>\n",
    "\n",
    "<p>La derivada de una <strong>función lineal</strong> (polinómica de grado 1) $f(x) = mx + b$ es la pendiente de su recta tangente. Pero en todo punto la recta tangente es la misma $f(x) = mx + b$, cuya pendiente es $m$. Por lo tanto, la derivada de $f(x) = mx + b$ es $f'(x) = m$.</p>\n",
    "\n",
    "<p>En particular, si $f(x) = x$ entonces es $f'(x) = 1$.</p>\n",
    "\n",
    "<p>Vamos a mostrar que con esto nos alcanza para conocer las derivadas de otras funciones polinómicas como $f(x) = x^2, f(x) = x^3, f(x) = x^4$, etc.</p>\n",
    "\n",
    "<p>Lo único que necesitamos conocer es cómo se deriva el producto de dos funciones. Y para eso necesitamos tener presente la definición de <strong>derivada</strong> con la que trabajamos en los **Problemas 8 y 9** de la Unidad anterior:</p>\n",
    "\n",
    "<table style=\"width:80%\">\n",
    "    <tr>\n",
    "        <td style=\"border: 1px solid #ccc; padding:10px;\">\\[f'(x) = \n",
    "\\lim_{h \\to 0} \\frac{f(x+h) - f(x)}{h}\n",
    "\\]</td>\n",
    "    </tr>\n",
    "</table>\n",
    "\n",
    "<p>No importa que en este curso no hagamos un estudio sistemático y detallado del concepto de límite. Para entender esta definición hay que comprender que $h \\to 0$ significa que $h$ se va acercando a $0$ y uno observa qué sucede con el cociente. Podemos tener una idea poniendo valores de  $h$ pequeños, como por ejemplo $h = 0.00001$. Pero siempre debe ser $h \\neq 0$ porque no se puede dividir por $0$. En el cociente de la definición de derivada el numerador y el denominador se acercan a $0$ a la vez, pero de manera que el cociente termina acercándose a un número, que es, en cada punto $x$, el valor de la pendiente de la recta tangente al gráfico de la función $f$ en el punto $\\left(x,f(x)\\right)$.</p>\n",
    "\n",
    "<p>Supongamos ahora que queremos conocer la derivada de $f(x) \\cdot g(x)$. Para eso estudiamos el límite:</p>\n",
    "\n",
    "<table style=\"width:80%\">\n",
    "    <tr>\n",
    "        <td style=\"border: 1px solid #ccc; padding:10px;\">\\[[f(x)g(x)]´ = \n",
    "\\lim_{h \\to 0} \\frac{f(x + h)g(x + h) - f(x)g(x)}{h}\n",
    "\\]</td>\n",
    "    </tr>\n",
    "</table>\n",
    "\n",
    "<p>Sumamos y restamos una misma cantidad, solo para escribir la expresión de manera distinta, pero equivalente $^a$.</p>\n",
    "\n",
    "<table style=\"width:80%\">\n",
    "    <tr>\n",
    "        <td style=\"border: 1px solid #ccc; padding:10px;\">\\[[f(x)g(x)]´ = \n",
    "\\lim_{h \\to 0} \\frac{f(x + h)g(x + h) {\\color{red}{-g(x + h)f(x) + g(x + h)f(x)}}- f(x)g(x)}{h}\n",
    "\\]</td>\n",
    "    </tr>\n",
    "    <tr>\n",
    "        <td style=\"border: 1px solid #ccc; padding:10px;\">\\[ = \\lim_{h \\to 0} \\frac{(f(x + h) - f(x))g(x + h) + (g(x + h) - g(x))f(x)}{h} \\]</td>\n",
    "    </tr>\n",
    "    <tr>\n",
    "        <td style=\"border: 1px solid #ccc; padding:10px;\">\\[ = \\lim_{h \\to 0} \\frac{f(x + h) - f(x)}{h}g(x + h) + \\lim_{h \\to 0} \\frac{(g(x + h) - g(x))}{h}f(x) \\]</td>\n",
    "    </tr>\n",
    "    <tr>\n",
    "        <td style=\"border: 1px solid #ccc; padding:10px;\">\\[ = f´(x)g(x) + f(x)g´(x) \\]</td>\n",
    "    </tr>\n",
    "</table>\n",
    "<p>Lo que se ha demostrado es la manera de derivar un producto de dos funciones:</p>\n",
    "\n",
    "<table style=\"width:100%\">\n",
    "    <tr>\n",
    "        <td style=\"text-align:center;\"><div style=\"border:1px solid #ccc; padding:10px; border-radius:5px; display: inline-block;\">\\[ [f(x)g(x)]´ = f´(x)g(x) + f(x)g´(x) \\]</div></td>\n",
    "        <td style=\"text-align:right; width:80px;\">(3.8)</td>\n",
    "    </tr>\n",
    "</table>\n",
    "\n",
    "<br>\n",
    "<hr style=\"width: 25%; border: 1px solid black;margin-left:0\">\n",
    "$\\quad ^a$ Es un procedimiento común en matemáticas (y también en otras disciplinas): cambiar la manera de expresar algo para que se entienda un aspecto que con la expresión anterior no se entendía o no se alcanzaba a ver.\n",
    "\n",
    "</div>\n",
    "<br>\n",
    "\n",
    "a) Consideren que $f(x) = x^2$ es equivalente a $f(x) = x \\cdot x$ y utilicen la derivada del producto para deducir la derivada de $f(x) = x^2$ (que ya conocen).\n",
    "\n",
    "b) Consideren que $f(x) = x^3$ es equivalente a $f(x) = x^2 \\cdot x$ y utilicen la derivada del producto para deducir la derivada de $f(x) = x^3$.\n",
    "\n",
    "c) Consideren que $f(x) = x^4$ es equivalente a $f(x) = x^3 \\cdot x$ y utilicen la derivada del producto para deducir la derivada de $f(x) = x^4$.\n",
    "\n",
    "d) Si no se aburrieron y todavía lo necesitan, consideren que $f(x) = x^5$ es equivalente a $f(x)= x^4 \\cdot x$ y utilicen la derivada del producto para deducir la derivada de $f(x) = x^5$.\n",
    "\n",
    "e) Continúen en esta línea hasta que sean capaces de decir cuál es la derivada de $f(x) = x^n$, para cualquier entero positivo $n$."
   ]
  },
  {
   "cell_type": "markdown",
   "id": "b67f3e49-6b05-404a-b1be-8a9b3735dd78",
   "metadata": {},
   "source": [
    "## Problema 23. [Raíces de funciones polinómicas]\\(<img src=\"img/nogeo.png\" style=\"height: 1em; vertical-align:middle;\">)\n",
    "\n",
    "<table style=\"width:100%;\">\n",
    "  <tr>\n",
    "    <td style=\"width:75%; vertical-align:top;\">\n",
    "      <p>Consideren la función $f(x) = x^3 + x^2 + x - 1$, cuyo gráfico está a la derecha. Recordemos que un número $x_0$ es raíz de $f$ si $f(x_0) = 0$. Por lo tanto, se ve en el gráfico que $f$ tiene una raíz entre $0$ y $1$.</p>\n",
    "      <ol style=\"list-style-type: lower-alpha;\">\n",
    "        <li>Realicen alguna exploración con calculadora para encontrar un valor aproximado de esa raíz.</li>\n",
    "        <li>Escriban una serie de instrucciones que le expliquen a una persona con una calculadora cómo llevar adelante esa exploración, de manera sistemática.</li>\n",
    "      </ol>\n",
    "    </td>\n",
    "    <td style=\"width:25%; text-align:right;\">\n",
    "      <img src=\"img/image-092.png\">\n",
    "    </td>\n",
    "  </tr>\n",
    "</table>\n"
   ]
  },
  {
   "cell_type": "markdown",
   "id": "1af29f36-4bcc-4866-9e66-715960e5c185",
   "metadata": {},
   "source": [
    "## Problema 24. [Raíces de funciones polinómicas II]\\(<img src=\"img/nogeo.png\" style=\"height: 1em; vertical-align:middle;\">)\n",
    "\n",
    "a) Observen la animación que se muestra en [esta applet(clic acá)](https://www.geogebra.org/m/cgapupxb). Traten de explicar en palabras qué es lo que va sucediendo, a partir de una lista que lo cuente paso a paso.\n",
    "\n",
    "b) Consideren que la función es $f(x) = x^3 + x^2 + x - 1$, como en el problema anterior y úsenla como ejemplo para realizar este procedimiento. **Nota**: la comprensión de cuál es el objetivo de lo que están observando es parte necesaria de la motivación que puedan encontrar para llevar adelante esta tarea.\n",
    "\n",
    "c) ¿Pueden pensar alguna manera de sistematizar este procedimiento con el recurso de una computadora?"
   ]
  },
  {
   "cell_type": "markdown",
   "id": "b221668e-0bcb-4f29-8100-5248e20c4f24",
   "metadata": {},
   "source": [
    "## Problema 25. [Caja de volumen máximo]\n",
    "\n",
    "<p>Cortando cuadrados iguales de las esquinas de una plancha de cartón de $50\\ cm \\times 30\\ cm$, el cartón puede plegarse para formar una caja.</p>\n",
    "\n",
    "<table style=\"width:100%;\">\n",
    "  <tr>\n",
    "    <td style=\"width:75%; vertical-align:top;\">\n",
    "      <p>¿Cuál debe ser la medida del lado del cuadradito cortado para que el volumen de la caja que se arme sea lo mayor posible?</p>\n",
    "    </td>\n",
    "    <td style=\"width:25%; text-align:right;\">\n",
    "      <img src=\"img/image-098.png\">\n",
    "    </td>\n",
    "  </tr>\n",
    "</table>"
   ]
  },
  {
   "cell_type": "markdown",
   "id": "0f49166e-dd29-4364-9d40-c5d2960a9133",
   "metadata": {},
   "source": [
    "## Problema 26. [Definición de extremos]\n",
    "\n",
    "<p>Lean el siguiente recuadro:</p>\n",
    "\n",
    "<div style=\"border: 2px solid black; padding: 10px; border-radius: 10px;\">\n",
    "    <p>El problema anterior es un ejemplo muy concreto de una variedad de problemas para los que la modelización mediante funciones y los recursos del cálculo resultan herramientas extraordinarias. Se trata de los problemas de optimización. Permanentemente se presentan en las aplicaciones económicas, físicas e ingenieriles situaciones en las que se requiere identificar las mejores condiciones mediante un modelo: dónde es menor la temperatura, bajo qué condiciones un costo que hay que afrontar es lo menor posible, qué camino es más rápido, etc. Eso nos lleva a caracterizar y definir los valores extremos de una función, en su dominio.</p>\n",
    "    <p>Observen el gráfico de la función $f$:</p>\n",
    "    <div style=\"text-align:center;\">\n",
    "        <img src=\"img/image-102.png\" style=\"width:60%;\">\n",
    "    </div><br>\n",
    "    <p>La función está definida en el intervalo cerrado $[a, b]$. En dicho intervalo alcanza distintos tipos de extremos. Alcanza un <strong>máximo local</strong> de valor $f(x_0)$ en el punto $x_0$. Es apenas local, porque es el máximo valor que toma $f$ en los alrededores del punto $x_0$, aunque luego sea superado por otros valores que toma $f$, por ejemplo cerca del punto $b$. En cambio $f$ alcanza un <strong>máximo absoluto</strong> de valor $f(b)$ en el punto $b$. Es absoluto porque no hay en todo el dominio de $f$ otro punto en el que $f$ valga más de lo que vale en $b$.</p>\n",
    "    \n",
    "<p>Por otra parte, $f$ alcanza un <strong>mínimo local</strong> de valor $f(a)$ en el punto $a$, que es apenas local, porque es el mínimo valor que toma $f$ en los alrededores del punto $a$ (observen que esos <em>alrededores</em> existen solo a la derecha de $a$, por ser $a$ un punto frontera del dominio de $f$), aunque existan otros puntos en los que $f$ vale menos que lo que vale en $a$, por ejemplo cerca del punto $x_1$. Precisamente en el punto $x_1$ la función $f$ alcanza un <strong>mínimo absoluto</strong>, porque no hay ningún punto en $[a, b]$ en el que $f$ valga menos que lo que vale en $x_1$.</p>\n",
    "\n",
    "<p>El gráfico de $f$ tiene también destacados dos segmentos horizontales en los puntos del intervalo abierto $(a, b)$ en los que $f$ alcanza extremos. Esos segmentos muestran que la recta tangente en dichos puntos es horizontal, lo que en términos de la derivada, significa que $f´$ se anula (vale 0) en dichos puntos. Formalmente, esto se conoce como <strong>el teorema de Fermat</strong> (Pierre de Fermat, francés (1601-1665)): <em>Sea $f$ una función derivable en el intervalo abierto $(a, b)$. Si $f$ alcanza un máximo o un mínimo en el punto $x_0 \\in (a, b)$ entonces $f´(x) = 0$.</em></p>\n",
    "\n",
    "<p>Esta anulación de la derivada permite identificar los extremos (máximos o mínimos) locales de puntos del dominio que no son frontera del mismo, siempre que la derivada exista en esos puntos. Los puntos $x_0$ del dominio de $f$ en los que la derivada de $f$ se anula ($f´(x) = 0$) se denominan <strong>puntos críticos</strong> de $f$.</p>\n",
    "\n",
    "<p>Concretamente definimos:</p>\n",
    "\n",
    "<ul>\n",
    "    <li>$f : I \\subset \\mathbb{R} \\rightarrow \\mathbb{R}$ alcanza un <strong>máximo local</strong> en $x_0 \\in I$ si existe algún intervalo abierto que contiene a $x_0$ tal que para cualquier punto $x$ de dicho intervalo resulta $f(x) \\leq f(x_0)$.</li>\n",
    "    <li>$f : I \\subset \\mathbb{R} \\rightarrow \\mathbb{R}$ alcanza un <strong>mínimo local</strong> en $x_0 \\in I$ si existe algún intervalo abierto que contiene a $x_0$ tal que para cualquier punto $x$ de dicho intervalo resulta $f(x) \\geq f(x_0)$.</li>\n",
    "    <li>$f : I \\subset \\mathbb{R} \\rightarrow \\mathbb{R}$ alcanza un <strong>máximo absoluto</strong> en $x_0 \\in I$ si para cualquier $x$ de dicho intervalo resulta $f(x) \\leq f(x_0)$.</li>\n",
    "    <li>$f : I \\subset \\mathbb{R} \\rightarrow \\mathbb{R}$ alcanza un <strong>mínimo absoluto</strong> en $x_0 \\in I$ si para cualquier $x$ de dicho intervalo resulta $f(x) \\geq f(x_0)$.</li>\n",
    "</ul>\n",
    "</div>\n",
    "<br>\n",
    "<p>Vuelvan al <strong>Problema 25</strong> y observen el gráfico. Identifiquen analíticamente el máximo de la función y completen la resolución del problema.</p>"
   ]
  },
  {
   "cell_type": "markdown",
   "id": "c7a11f3a-8f18-4ac9-9359-64fffc41fddb",
   "metadata": {},
   "source": [
    "## Problema 27. [Practicar búsqueda de extremos I]\n",
    "\n",
    "Encuentren los extremos locales de cada una de las siguientes funciones. ¿Son máximos o mínimos locales?¿Cómo lo pueden decidir?\n",
    "\n",
    "a) $f(x) = \\frac{1}{5}x^3 - \\frac{1}{2}x^2 - x + 1$\n",
    "\n",
    "b) $f(x) = -\\frac{1}{5}x^3 + \\frac{1}{2}x^2 + x - 1$\n",
    "\n",
    "c) $f(x) = \\frac{1}{3}x^3 + x$"
   ]
  },
  {
   "cell_type": "markdown",
   "id": "4f57ecbe-a8cb-4285-b279-a5ef0e4f92a1",
   "metadata": {},
   "source": [
    "## Problema 28. [Practicar búsqueda de extremos II]\n",
    "\n",
    "Buscar los puntos críticos de las siguientes funciones demanda resolver ecuaciones polinómicas de grado mayor que 2. En el **Problema 24** se estudió un recurso para hacerlo de forma aproximada. Utilicen ese recurso para buscar los extremos locales de cada función.\n",
    "\n",
    "a) $f(x) = \\frac{1}{5}x^4 - \\frac{1}{2}x^3 - x^2 + x + 1$\n",
    "\n",
    "b) $f(x) = -\\frac{1}{5}x^4 + \\frac{1}{2}x^3 + x^2 + x - 1$\n",
    "\n",
    "c) $f(x) = \\frac{1}{3}x^4 + x^2$"
   ]
  },
  {
   "cell_type": "markdown",
   "id": "97e9a7bb-33cb-4402-ac25-f9c2ba6de193",
   "metadata": {},
   "source": [
    "## Problema 29. [Extremos con animación]\n",
    "\n",
    "a) Accedan a [este enlace](https://www.geogebra.org/m/kzeu8kxr) y observen cómo varía el cuadrilátero verde cuando se mueve el deslizador $n$.\n",
    "\n",
    "   - (i) Calculen el área del cuadrilátero para un par de valores de $n$ que elijan.\n",
    "\n",
    "   - (ii) Determinen analíticamente para qué valor de $n$ es mínima el área del polígono verde.\n",
    "\n",
    "b) Lo mismo que en el ítem anterior, pero con la figura de [este enlace](https://www.geogebra.org/m/zuxd56ne)."
   ]
  },
  {
   "cell_type": "markdown",
   "id": "7b75edb1-fe99-44d9-bc47-a2b3643c2b7c",
   "metadata": {},
   "source": [
    "## Problema 30. [Construir applet para extremos]\\(<img src=\"img/geo.png\" style=\"height: 1em; vertical-align:middle;\">)\n",
    "\n",
    "Realicen en [GeoGebra](https://www.geogebra.org/classic) la siguiente construcción dinámica:\n",
    "\n",
    "<ol>\n",
    "    <li>La construcción debe moverse con un deslizador.</li>\n",
    "    <li>Debe consistir en un rectángulo con una semicircunferencia sobre uno de sus lados, de manera que ese lado del rectángulo sea un diámetro de la circunferencia.</li>\n",
    "    <li>Al mover el deslizador, el largo y el ancho del rectángulo deben variar, pero de tal manera que el perímetro total de la figura (formado por tres lados del rectángulo y por la semicircunferencia) mida siempre 8 unidades.</li>\n",
    "</ol>\n",
    "<p>¿Para qué valor del deslizador el área de la figura resulta máxima?</p>"
   ]
  },
  {
   "cell_type": "markdown",
   "id": "76f18e4f-4ff4-4516-9c50-44c5792b8ae6",
   "metadata": {},
   "source": [
    "## Problema 31. [Perímetro mínimo]\n",
    "\n",
    "<p>De todos los rectángulos de área $100\\ m^2$ determinen, si es posible, el rectángulo que tenga menor perímetro.</p>"
   ]
  },
  {
   "cell_type": "markdown",
   "id": "0e84f244-aedd-4d2c-99de-7d38c07066b6",
   "metadata": {},
   "source": [
    "## Problema 32. [Caja sin tapa]\n",
    "\n",
    "<p>Se desea fabricar una caja sin tapa, de base cuadrada$^2$. El material para fabricar las caras laterales cuesta $\\$3$ el $cm^2$ y el del fondo -que debe ser más rígido- cuesta $\\$4$ el $cm^2$. ¿Cuáles son las dimensiones de la caja de volumen máximo que se puede construir con un presupuesto de $\\$48$?</p>"
   ]
  },
  {
   "cell_type": "markdown",
   "id": "c5cd1f68-89a3-466d-b47a-8edfa15afbd7",
   "metadata": {},
   "source": [
    "## Problema 33. [Triángulo de área mínima]\n",
    "\n",
    "<p>Hallen una ecuación de la recta que pasa por el punto $(3, 5)$ y forma en el primer cuadrante un triángulo de área mínima.</p>"
   ]
  },
  {
   "cell_type": "markdown",
   "id": "84c22dba-36ba-424f-a3ec-64e5808451eb",
   "metadata": {},
   "source": [
    "## Problema 34. [La pista de atletismo]\n",
    "\n",
    "<p>Una pista de atletismo consta de una zona rectangular y un semicírculo en cada uno de sus extremos. Si el perímetro de la pista ha de ser $200\\ metros$, calculen las dimensiones que hacen máxima el área de la zona rectangular. ¿Cuál es el área total de la pista?.</p>"
   ]
  },
  {
   "cell_type": "markdown",
   "id": "246dab53-e09a-4704-85d4-e91d02f24f7a",
   "metadata": {},
   "source": [
    "## Problema 35. [Rectángulo en triángulo]\n",
    "\n",
    "Determinen las dimensiones del rectángulo de mayor área que puede inscribirse en un triángulo rectángulo cuyos catetos miden $5\\ cm$ y $12\\ cm$, si el rectángulo tiene un vértice en el ángulo recto del triángulo y otro vértice en la hipotenusa del triángulo."
   ]
  },
  {
   "cell_type": "markdown",
   "id": "4262a791-025c-4c04-b23a-fa523e66eb0d",
   "metadata": {},
   "source": [
    "## Problema 36. [Rectángulo inscripto en parábola]\n",
    "\n",
    "Un rectángulo tiene un vértice en $(0, 0)$, un lado sobre el eje $x$ y otro lado sobre el eje $y$. El vértice opuesto a $(0, 0)$ está sobre la parábola de ecuación $y = 2x^2 - 9x + 12$ con $0 \\leq x \\leq 3$ ¿Cuál es el área máxima posible para el rectángulo?\n",
    "\n",
    "<br>\n",
    "<hr style=\"width: 57%; border: 1px solid black; margin-left: 0;\">\n",
    "\n",
    "$\\quad ^2$Los **Problemas** 32, 33, 34, 35 y 36 fueron tomados y adaptados de la Práctica del curso Cálculo Diferencial e Integral, de la Escuela de Matemática Instituto Tecnológico de Costa Rica. Ver [aquí](https://tecdigital.tec.ac.cr/servicios/revistamatematica/Libros/practicas/A-Practicas-CDI-I-2019.pdf)"
   ]
  }
 ],
 "metadata": {
  "kernelspec": {
   "display_name": "Python 3 (ipykernel)",
   "language": "python",
   "name": "python3"
  },
  "language_info": {
   "codemirror_mode": {
    "name": "ipython",
    "version": 3
   },
   "file_extension": ".py",
   "mimetype": "text/x-python",
   "name": "python",
   "nbconvert_exporter": "python",
   "pygments_lexer": "ipython3",
   "version": "3.12.10"
  }
 },
 "nbformat": 4,
 "nbformat_minor": 5
}
